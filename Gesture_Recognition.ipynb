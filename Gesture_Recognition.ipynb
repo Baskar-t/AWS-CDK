{
  "cells": [
    {
      "cell_type": "markdown",
      "metadata": {
        "id": "view-in-github",
        "colab_type": "text"
      },
      "source": [
        "<a href=\"https://colab.research.google.com/github/Baskar-t/AWS-CDK/blob/main/Gesture_Recognition.ipynb\" target=\"_parent\"><img src=\"https://colab.research.google.com/assets/colab-badge.svg\" alt=\"Open In Colab\"/></a>"
      ]
    },
    {
      "cell_type": "markdown",
      "metadata": {
        "id": "cx8veDP270Qm"
      },
      "source": [
        "# Gesture Recognition\n",
        "In this group project, you are going to build a 3D Conv model that will be able to predict the 5 gestures correctly. Please import the following libraries to get started."
      ]
    },
    {
      "cell_type": "code",
      "source": [
        "!pip install tf-keras"
      ],
      "metadata": {
        "id": "O-mIyTXGGYvh"
      },
      "execution_count": null,
      "outputs": []
    },
    {
      "cell_type": "code",
      "source": [
        "!unzip /content/drive/MyDrive/Project_data.zip -d /content/drive/MyDrive/Project_data"
      ],
      "metadata": {
        "id": "n16_QYlY-Reo"
      },
      "execution_count": null,
      "outputs": []
    },
    {
      "cell_type": "code",
      "execution_count": 28,
      "metadata": {
        "id": "0Yn7ZLwj70Qs"
      },
      "outputs": [],
      "source": [
        "import numpy as np\n",
        "import os\n",
        "from skimage import io, transform\n",
        "import datetime\n",
        "import os\n",
        "from PIL import Image, ImageFilter, ImageEnhance\n",
        "import matplotlib.pyplot as plt\n",
        "%matplotlib inline\n",
        "import warnings\n",
        "warnings.filterwarnings(\"ignore\")"
      ]
    },
    {
      "cell_type": "markdown",
      "metadata": {
        "id": "v_o5HIN370Qv"
      },
      "source": [
        "We set the random seed so that the results don't vary drastically."
      ]
    },
    {
      "cell_type": "code",
      "execution_count": 29,
      "metadata": {
        "id": "7nYnMBOt70Qx"
      },
      "outputs": [],
      "source": [
        "import os\n",
        "os.environ['PYTHONHASHSEED']=\"30\"\n",
        "np.random.seed(30)\n",
        "import random as rn\n",
        "rn.seed(30)\n",
        "import tensorflow as tf\n",
        "tf.random.set_seed(30)\n"
      ]
    },
    {
      "cell_type": "markdown",
      "metadata": {
        "id": "IYoHTY3L70Q1"
      },
      "source": [
        "In this block, you read the folder names for training and validation. You also set the `batch_size` here. Note that you set the batch size in such a way that you are able to use the GPU in full capacity. You keep increasing the batch size until the machine throws an error."
      ]
    },
    {
      "cell_type": "code",
      "execution_count": 30,
      "metadata": {
        "id": "PIfdvnL770Q3"
      },
      "outputs": [],
      "source": [
        "# train and validatiaon data creator with ablation\n",
        "# when ablation is 10, then 10 folders for each label will be selected.\n",
        "def get_data(path, ablation=None):\n",
        "    train_doc = np.random.permutation(open(path+'train.csv').readlines())\n",
        "    val_doc = np.random.permutation(open(path+'val.csv').readlines())\n",
        "    counts = np.zeros(5) # count for loading folders for 5 classes\n",
        "    train_data = []\n",
        "    val_data = []\n",
        "    # when ablation is None pass full training and val data\n",
        "    if ablation is not None:\n",
        "        # iterating train doc\n",
        "        for doc in train_doc:\n",
        "            lable = int(doc.strip().split(';')[2])\n",
        "            if counts[lable] < ablation:\n",
        "                train_data.append(doc)\n",
        "                counts[lable] += 1\n",
        "        counts = np.zeros(5)\n",
        "        # iterating val doc\n",
        "        for doc in val_doc:\n",
        "            lable = int(doc.strip().split(';')[2])\n",
        "            if counts[lable] < ablation:\n",
        "                val_data.append(doc)\n",
        "                counts[lable] += 1\n",
        "    else:\n",
        "        train_data, val_data = train_doc, val_doc\n",
        "    return train_data, val_data"
      ]
    },
    {
      "cell_type": "code",
      "execution_count": 31,
      "metadata": {
        "id": "LlXSWJrY70Q5"
      },
      "outputs": [],
      "source": [
        "train_doc, val_doc = get_data('/content/drive/MyDrive/Project_data/Project_data/', ablation=None)\n",
        "batch_size = 32 # experiment with the batch size\n",
        "enable_augmentation = False # augmentation of Data\n",
        "# sequence ids\n",
        "# selecting alternate frames from 7 to 26.\n",
        "seq_idx = range(7,26,2)\n",
        "# image dimensions\n",
        "dim_x, dim_y = 120, 120"
      ]
    },
    {
      "cell_type": "markdown",
      "metadata": {
        "id": "-I-0LqW670Q7"
      },
      "source": [
        "## Generator\n",
        "This is one of the most important part of the code. The overall structure of the generator has been given. In the generator, you are going to preprocess the images as you have images of 2 different dimensions as well as create a batch of video frames. You have to experiment with `img_idx`, `y`,`z` and normalization such that you get high accuracy."
      ]
    },
    {
      "cell_type": "code",
      "execution_count": 32,
      "metadata": {
        "scrolled": true,
        "id": "DhHJJGN470Q8"
      },
      "outputs": [],
      "source": [
        "# generator with augmentation for train data\n",
        "def generator(source_path, folder_list, batch_size, is_train = False, augmention = False, debug=False):\n",
        "    # print('\\nSource path = ', source_path, '; batch size =', batch_size)\n",
        "    img_idx = seq_idx #create a list of image numbers you want to use for a particular video\n",
        "    x = len(img_idx)\n",
        "    y, z = dim_x, dim_y\n",
        "    while True:\n",
        "        # doubling the data for augmentation\n",
        "        if is_train and augmention:\n",
        "            t = np.concatenate((np.random.permutation(folder_list), np.random.permutation(folder_list)))\n",
        "        else:\n",
        "            t = np.random.permutation(folder_list)\n",
        "\n",
        "        if (len(t)%batch_size) == 0:\n",
        "            num_batches = int(len(t)/batch_size)\n",
        "        else:\n",
        "            num_batches = len(t)//batch_size + 1\n",
        "\n",
        "        for batch in range(num_batches): # we iterate over the number of batches\n",
        "            batch_data = np.zeros((batch_size,x,y,z,3)) # x is the number of images you use for each video, (y,z) is the final size of the input images and 3 is the number of channels RGB\n",
        "            batch_labels = np.zeros((batch_size,5)) # batch_labels is the one hot representation of the output\n",
        "            for folder in range(batch_size): # iterate over the batch_size\n",
        "                if debug:\n",
        "                    plt.figure(figsize=(20,5))\n",
        "                #handling remaining datapoints\n",
        "                folder_idx = folder + (batch*batch_size)\n",
        "                if folder_idx >= len(t):\n",
        "                    break\n",
        "                folder_str = t[folder_idx]\n",
        "                imgs = os.listdir(source_path+'/'+ folder_str.split(';')[0]) # read all the images in the folder\n",
        "                # randomly enabling augmentation and augmentation type\n",
        "                aug_type = None\n",
        "                if is_train and augmention and rn.randint(0,1) == 1:\n",
        "                    aug_type = rn.randint(0, 4) #randomly selecting augmentation type\n",
        "                for idx,item in enumerate(img_idx): #  Iterate iver the frames/images of a folder to read them in\n",
        "                    image = io.imread(source_path+'/'+ folder_str.strip().split(';')[0]+'/'+imgs[item]).astype(np.float32)\n",
        "\n",
        "                    # plotting original images for debugging purpose only\n",
        "                    if debug:\n",
        "                        plt.subplot(2, x, idx+1)\n",
        "                        plt.imshow(image.astype('uint8'))\n",
        "\n",
        "                    #crop the images and resize them. Note that the images are of 2 different shape\n",
        "                    #and the conv3D will throw error if the inputs in a batch have different shapes\n",
        "                    # making the rectangle images into square by cropping sides\n",
        "                    # so the aspect ration can be mantained while resizing.\n",
        "                    if image.shape[1] > image.shape[0]:\n",
        "                        diff_px = image.shape[1] - image.shape[0]\n",
        "                        crop_start = diff_px//2\n",
        "                        crop_end = crop_start + image.shape[0]\n",
        "                        image = image[:, crop_start:crop_end]\n",
        "                    elif image.shape[0] > image.shape[1]:\n",
        "                        diff_px = image.shape[0] - image.shape[1]\n",
        "                        crop_start = diff_px//2\n",
        "                        crop_end = crop_start + image.shape[1]\n",
        "                        image = image[:, crop_start:crop_end]\n",
        "\n",
        "\n",
        "                    resized_im = transform.resize(image, (y,z))\n",
        "\n",
        "                    if aug_type is not None:\n",
        "                        if aug_type == 0: # edge Enhancement\n",
        "                            resized_im = np.array(Image.fromarray(resized_im, 'RGB').filter(ImageFilter.EDGE_ENHANCE))\n",
        "                        elif aug_type == 1: # adding gaussian blur\n",
        "                            resized_im = np.array(Image.fromarray(resized_im, 'RGB').filter(ImageFilter.GaussianBlur(1)))\n",
        "                        elif aug_type == 2: # enchancing image detailing\n",
        "                            resized_im = np.array(Image.fromarray(resized_im, 'RGB').filter(ImageFilter.DETAIL))\n",
        "                        elif aug_type == 3: # sharpening image\n",
        "                            resized_im = np.array(Image.fromarray(resized_im, 'RGB').filter(ImageFilter.SHARPEN))\n",
        "                        elif aug_type == 4: # Brightness enhancement\n",
        "                            resized_im = np.array(ImageEnhance.Brightness((Image.fromarray(resized_im, 'RGB'))).enhance(1.5))\n",
        "                    # plotting rezised images for debugging purpose only\n",
        "                    if debug:\n",
        "                        plt.subplot(2, x, idx+x+1)\n",
        "                        plt.imshow(resized_im)\n",
        "\n",
        "                    batch_data[folder,idx,:,:,0] = resized_im[:,:,0]/255 #normalise and feed in the image\n",
        "                    batch_data[folder,idx,:,:,1] = resized_im[:,:,1]/255 #normalise and feed in the image\n",
        "                    batch_data[folder,idx,:,:,2] = resized_im[:,:,2]/255 #normalise and feed in the image\n",
        "\n",
        "                batch_labels[folder, int(folder_str.strip().split(';')[2])] = 1\n",
        "            yield batch_data, batch_labels #you yield the batch_data and the batch_labels, remember what does yield do\n"
      ]
    },
    {
      "cell_type": "markdown",
      "metadata": {
        "id": "Yuj7GYQE70RA"
      },
      "source": [
        "Note here that a video is represented above in the generator as (number of images, height, width, number of channels). Take this into consideration while creating the model architecture."
      ]
    },
    {
      "cell_type": "code",
      "execution_count": 41,
      "metadata": {
        "id": "8Ys7mI9E70RC",
        "outputId": "29e384a9-9abc-4ce4-8275-7abe5b80f91a",
        "colab": {
          "base_uri": "https://localhost:8080/",
          "height": 0
        }
      },
      "outputs": [
        {
          "output_type": "stream",
          "name": "stdout",
          "text": [
            "# training sequences = 663\n",
            "# validation sequences = 100\n",
            "# epochs = 5\n"
          ]
        }
      ],
      "source": [
        "curr_dt_time = datetime.datetime.now()\n",
        "train_path = '/content/drive/MyDrive/Project_data/Project_data/train' #'/notebooks/storage/Final_data/Collated_training/train'\n",
        "val_path =  '/content/drive/MyDrive/Project_data/Project_data/val' #'/notebooks/storage/Final_data/Collated_training/val'\n",
        "\n",
        "#multiply number train seq by 2 when using augmentation\n",
        "multiplier = 1\n",
        "if enable_augmentation:\n",
        "    multiplier = 2\n",
        "num_train_sequences = len(train_doc)*multiplier\n",
        "print('# training sequences =', num_train_sequences)\n",
        "\n",
        "num_val_sequences = len(val_doc)\n",
        "print('# validation sequences =', num_val_sequences)\n",
        "\n",
        "num_epochs = 5 # choose the number of epochs\n",
        "print ('# epochs =', num_epochs)"
      ]
    },
    {
      "cell_type": "code",
      "execution_count": null,
      "metadata": {
        "scrolled": false,
        "id": "C_aGoVMA70RF"
      },
      "outputs": [],
      "source": [
        "# testing generative\n",
        "test_gen = generator(train_path, train_doc, 1, is_train = True, augmention = True, debug = True)\n",
        "d = next(test_gen)[1]"
      ]
    },
    {
      "cell_type": "markdown",
      "metadata": {
        "id": "bHIJgdug70RG"
      },
      "source": [
        "## Model\n",
        "Here you make the model using different functionalities that Keras provides. Remember to use `Conv3D` and `MaxPooling3D` and not `Conv2D` and `Maxpooling2D` for a 3D convolution model. You would want to use `TimeDistributed` while building a Conv2D + RNN model. Also remember that the last layer is the softmax. Design the network in such a way that the model is able to give good accuracy on the least number of parameters so that it can fit in the memory of the webcam."
      ]
    },
    {
      "cell_type": "code",
      "execution_count": 35,
      "metadata": {
        "id": "GmhjQQPk70RH"
      },
      "outputs": [],
      "source": [
        "from keras.models import Sequential, Model\n",
        "from keras.layers import Dense, GRU, Flatten, TimeDistributed, Bidirectional, BatchNormalization, Activation, Dropout, GlobalAveragePooling2D, GlobalAveragePooling3D, ConvLSTM2D\n",
        "from keras.layers import Conv2D, Conv3D, MaxPooling2D, MaxPooling3D\n",
        "from keras.callbacks import ModelCheckpoint, ReduceLROnPlateau\n",
        "from keras import optimizers\n",
        "from tensorflow.keras.layers import InputSpec\n",
        "\n",
        "#input shape for the st layer\n",
        "input_shape = (len(seq_idx), dim_x, dim_y, 3)\n",
        "np.random.seed(30)"
      ]
    },
    {
      "cell_type": "markdown",
      "metadata": {
        "id": "VgVWdRzO70Rd"
      },
      "source": [
        "# Time Distributed LSTM Conv2D model"
      ]
    },
    {
      "cell_type": "code",
      "execution_count": 36,
      "metadata": {
        "id": "ckGS4oKY70Re"
      },
      "outputs": [],
      "source": [
        "model = Sequential()\n",
        "model.add(TimeDistributed(\n",
        "    Conv2D(8, (3,3), activation='relu'), input_shape=input_shape)\n",
        ")\n",
        "model.add(BatchNormalization())\n",
        "model.add(TimeDistributed(\n",
        "    Conv2D(16, (3,3), activation='relu'))\n",
        ")\n",
        "model.add(BatchNormalization())\n",
        "model.add(\n",
        "    ConvLSTM2D(8, kernel_size = 3, return_sequences=False)\n",
        ")\n",
        "model.add(BatchNormalization())\n",
        "model.add(TimeDistributed(\n",
        "    Dense(64, activation='relu'))\n",
        ")\n",
        "model.add(BatchNormalization())\n",
        "model.add(GlobalAveragePooling2D())\n",
        "model.add(Dense(64, activation='relu'))\n",
        "model.add(Dense(5, activation='softmax'))"
      ]
    },
    {
      "cell_type": "markdown",
      "metadata": {
        "id": "gk2nIvqc70Rf"
      },
      "source": [
        "Now that you have written the model, the next step is to `compile` the model. When you print the `summary` of the model, you'll see the total number of parameters you have to train."
      ]
    },
    {
      "cell_type": "code",
      "execution_count": 37,
      "metadata": {
        "scrolled": false,
        "id": "r7IbVqg470Rg",
        "outputId": "f58b76d5-0f9d-4e3c-8e5a-7a43d31cfcbe",
        "colab": {
          "base_uri": "https://localhost:8080/",
          "height": 0
        }
      },
      "outputs": [
        {
          "output_type": "stream",
          "name": "stderr",
          "text": [
            "WARNING:absl:`lr` is deprecated in Keras optimizer, please use `learning_rate` or use the legacy optimizer, e.g.,tf.keras.optimizers.legacy.Adam.\n"
          ]
        },
        {
          "output_type": "stream",
          "name": "stdout",
          "text": [
            "Model: \"sequential_1\"\n",
            "_________________________________________________________________\n",
            " Layer (type)                Output Shape              Param #   \n",
            "=================================================================\n",
            " time_distributed_3 (TimeDi  (None, 10, 118, 118, 8)   224       \n",
            " stributed)                                                      \n",
            "                                                                 \n",
            " batch_normalization_4 (Bat  (None, 10, 118, 118, 8)   32        \n",
            " chNormalization)                                                \n",
            "                                                                 \n",
            " time_distributed_4 (TimeDi  (None, 10, 116, 116, 16   1168      \n",
            " stributed)                  )                                   \n",
            "                                                                 \n",
            " batch_normalization_5 (Bat  (None, 10, 116, 116, 16   64        \n",
            " chNormalization)            )                                   \n",
            "                                                                 \n",
            " conv_lstm2d_1 (ConvLSTM2D)  (None, 114, 114, 8)       6944      \n",
            "                                                                 \n",
            " batch_normalization_6 (Bat  (None, 114, 114, 8)       32        \n",
            " chNormalization)                                                \n",
            "                                                                 \n",
            " time_distributed_5 (TimeDi  (None, 114, 114, 64)      576       \n",
            " stributed)                                                      \n",
            "                                                                 \n",
            " batch_normalization_7 (Bat  (None, 114, 114, 64)      256       \n",
            " chNormalization)                                                \n",
            "                                                                 \n",
            " global_average_pooling2d_1  (None, 64)                0         \n",
            "  (GlobalAveragePooling2D)                                       \n",
            "                                                                 \n",
            " dense_4 (Dense)             (None, 64)                4160      \n",
            "                                                                 \n",
            " dense_5 (Dense)             (None, 5)                 325       \n",
            "                                                                 \n",
            "=================================================================\n",
            "Total params: 13781 (53.83 KB)\n",
            "Trainable params: 13589 (53.08 KB)\n",
            "Non-trainable params: 192 (768.00 Byte)\n",
            "_________________________________________________________________\n",
            "None\n"
          ]
        }
      ],
      "source": [
        "optimiser = optimizers.Adam(lr=0.01) #write your optimizer\n",
        "model.compile(optimizer=optimiser, loss='categorical_crossentropy', metrics=['categorical_accuracy'])\n",
        "print(model.summary())"
      ]
    },
    {
      "cell_type": "markdown",
      "metadata": {
        "id": "c9yUcoAC70Rh"
      },
      "source": [
        "Let us create the `train_generator` and the `val_generator` which will be used in `.fit_generator`."
      ]
    },
    {
      "cell_type": "code",
      "execution_count": 38,
      "metadata": {
        "id": "X9CN3e4v70Ri"
      },
      "outputs": [],
      "source": [
        "train_generator = generator(train_path, train_doc, batch_size, is_train = True, augmention = enable_augmentation)\n",
        "val_generator = generator(val_path, val_doc, batch_size)"
      ]
    },
    {
      "cell_type": "code",
      "execution_count": 39,
      "metadata": {
        "id": "g9EnIuVJ70Ri",
        "colab": {
          "base_uri": "https://localhost:8080/",
          "height": 0
        },
        "outputId": "327a77fc-dc23-412a-83f4-6955f402ae2e"
      },
      "outputs": [
        {
          "output_type": "stream",
          "name": "stderr",
          "text": [
            "WARNING:tensorflow:`period` argument is deprecated. Please use `save_freq` to specify the frequency in number of batches seen.\n"
          ]
        }
      ],
      "source": [
        "model_name = 'model_LSTM_CONV2D' + '_' + str(curr_dt_time).replace(' ','').replace(':','_') + '/'\n",
        "\n",
        "if not os.path.exists(model_name):\n",
        "    os.mkdir(model_name)\n",
        "\n",
        "filepath = model_name + 'model-{epoch:05d}-{loss:.5f}-{categorical_accuracy:.5f}-{val_loss:.5f}-{val_categorical_accuracy:.5f}.h5'\n",
        "\n",
        "checkpoint = ModelCheckpoint(filepath, monitor='val_loss', verbose=1, save_best_only=False, save_weights_only=False, mode='auto', period=1)\n",
        "\n",
        "LR = ReduceLROnPlateau(monitor='val_loss', factor=0.2, patience=5, min_lr=0.001, verbose=1) # write the REducelronplateau code here\n",
        "\n",
        "callbacks_list = [checkpoint, LR]"
      ]
    },
    {
      "cell_type": "markdown",
      "metadata": {
        "id": "4sKNFrDD70Rj"
      },
      "source": [
        "The `steps_per_epoch` and `validation_steps` are used by `fit_generator` to decide the number of next() calls it need to make."
      ]
    },
    {
      "cell_type": "code",
      "execution_count": 22,
      "metadata": {
        "id": "4KruQPZE70Rk"
      },
      "outputs": [],
      "source": [
        "if (num_train_sequences%batch_size) == 0:\n",
        "    steps_per_epoch = int(num_train_sequences/batch_size)\n",
        "else:\n",
        "    steps_per_epoch = (num_train_sequences//batch_size) + 1\n",
        "\n",
        "if (num_val_sequences%batch_size) == 0:\n",
        "    validation_steps = int(num_val_sequences/batch_size)\n",
        "else:\n",
        "    validation_steps = (num_val_sequences//batch_size) + 1"
      ]
    },
    {
      "cell_type": "markdown",
      "metadata": {
        "id": "J08BxwlB70Rl"
      },
      "source": [
        "Let us now fit the model. This will start training the model and with the help of the checkpoints, you'll be able to save the model at the end of each epoch."
      ]
    },
    {
      "cell_type": "code",
      "execution_count": 42,
      "metadata": {
        "scrolled": false,
        "id": "9mD4n8PW70Rm",
        "outputId": "ac770b64-a96b-4f6c-e3d0-70a5fd807e1c",
        "colab": {
          "base_uri": "https://localhost:8080/",
          "height": 0
        }
      },
      "outputs": [
        {
          "output_type": "stream",
          "name": "stdout",
          "text": [
            "Epoch 1/5\n",
            "21/21 [==============================] - ETA: 0s - loss: 1.4714 - categorical_accuracy: 0.3348\n",
            "Epoch 1: saving model to model_LSTM_CONV2D_2024-04-0919_39_48.994215/model-00001-1.47145-0.33482-1.25197-0.16406.h5\n",
            "21/21 [==============================] - 450s 22s/step - loss: 1.4714 - categorical_accuracy: 0.3348 - val_loss: 1.2520 - val_categorical_accuracy: 0.1641 - lr: 0.0010\n",
            "Epoch 2/5\n",
            "21/21 [==============================] - ETA: 0s - loss: 1.2508 - categorical_accuracy: 0.5000\n",
            "Epoch 2: saving model to model_LSTM_CONV2D_2024-04-0919_39_48.994215/model-00002-1.25084-0.50000-1.23312-0.16406.h5\n",
            "21/21 [==============================] - 107s 5s/step - loss: 1.2508 - categorical_accuracy: 0.5000 - val_loss: 1.2331 - val_categorical_accuracy: 0.1641 - lr: 0.0010\n",
            "Epoch 3/5\n",
            "21/21 [==============================] - ETA: 0s - loss: 1.1560 - categorical_accuracy: 0.5417\n",
            "Epoch 3: saving model to model_LSTM_CONV2D_2024-04-0919_39_48.994215/model-00003-1.15602-0.54167-1.21436-0.26562.h5\n",
            "21/21 [==============================] - 88s 4s/step - loss: 1.1560 - categorical_accuracy: 0.5417 - val_loss: 1.2144 - val_categorical_accuracy: 0.2656 - lr: 0.0010\n",
            "Epoch 4/5\n",
            "21/21 [==============================] - ETA: 0s - loss: 1.0326 - categorical_accuracy: 0.5610\n",
            "Epoch 4: saving model to model_LSTM_CONV2D_2024-04-0919_39_48.994215/model-00004-1.03256-0.56101-1.21556-0.25000.h5\n",
            "21/21 [==============================] - 84s 4s/step - loss: 1.0326 - categorical_accuracy: 0.5610 - val_loss: 1.2156 - val_categorical_accuracy: 0.2500 - lr: 0.0010\n",
            "Epoch 5/5\n",
            "21/21 [==============================] - ETA: 0s - loss: 0.9795 - categorical_accuracy: 0.6176\n",
            "Epoch 5: saving model to model_LSTM_CONV2D_2024-04-0919_39_48.994215/model-00005-0.97955-0.61756-1.23830-0.21094.h5\n",
            "21/21 [==============================] - 95s 5s/step - loss: 0.9795 - categorical_accuracy: 0.6176 - val_loss: 1.2383 - val_categorical_accuracy: 0.2109 - lr: 0.0010\n"
          ]
        }
      ],
      "source": [
        "Model_LSTM_Conv2D = model.fit_generator(train_generator, steps_per_epoch=steps_per_epoch, epochs=num_epochs, verbose=1,\n",
        "                        callbacks=callbacks_list, validation_data=val_generator,\n",
        "                        validation_steps=validation_steps, class_weight=None, workers=1, initial_epoch=0)"
      ]
    },
    {
      "cell_type": "code",
      "source": [
        "Model_LSTM_Conv2D = model.fit_generator(train_generator, steps_per_epoch=steps_per_epoch, epochs=num_epochs, verbose=1,\n",
        "                        callbacks=callbacks_list, validation_data=val_generator,\n",
        "                        validation_steps=validation_steps, class_weight=None, workers=1, initial_epoch=0)"
      ],
      "metadata": {
        "colab": {
          "base_uri": "https://localhost:8080/",
          "height": 0
        },
        "id": "Lc5g1zIubgBa",
        "outputId": "3a830d04-7391-4ddd-9e80-156ca8717fad"
      },
      "execution_count": 43,
      "outputs": [
        {
          "output_type": "stream",
          "name": "stdout",
          "text": [
            "Epoch 1/5\n",
            "21/21 [==============================] - ETA: 0s - loss: 0.9577 - categorical_accuracy: 0.5878\n",
            "Epoch 1: saving model to model_LSTM_CONV2D_2024-04-0919_39_48.994215/model-00001-0.95767-0.58780-1.24837-0.20312.h5\n",
            "21/21 [==============================] - 99s 5s/step - loss: 0.9577 - categorical_accuracy: 0.5878 - val_loss: 1.2484 - val_categorical_accuracy: 0.2031 - lr: 0.0010\n",
            "Epoch 2/5\n",
            "21/21 [==============================] - ETA: 0s - loss: 0.8638 - categorical_accuracy: 0.6682\n",
            "Epoch 2: saving model to model_LSTM_CONV2D_2024-04-0919_39_48.994215/model-00002-0.86380-0.66815-1.26425-0.25000.h5\n",
            "21/21 [==============================] - 95s 5s/step - loss: 0.8638 - categorical_accuracy: 0.6682 - val_loss: 1.2643 - val_categorical_accuracy: 0.2500 - lr: 0.0010\n",
            "Epoch 3/5\n",
            "21/21 [==============================] - ETA: 0s - loss: 0.8218 - categorical_accuracy: 0.6667\n",
            "Epoch 3: saving model to model_LSTM_CONV2D_2024-04-0919_39_48.994215/model-00003-0.82179-0.66667-1.39898-0.16406.h5\n",
            "21/21 [==============================] - 110s 5s/step - loss: 0.8218 - categorical_accuracy: 0.6667 - val_loss: 1.3990 - val_categorical_accuracy: 0.1641 - lr: 0.0010\n",
            "Epoch 4/5\n",
            "21/21 [==============================] - ETA: 0s - loss: 0.8415 - categorical_accuracy: 0.6369\n",
            "Epoch 4: saving model to model_LSTM_CONV2D_2024-04-0919_39_48.994215/model-00004-0.84148-0.63690-1.27245-0.25781.h5\n",
            "21/21 [==============================] - 75s 4s/step - loss: 0.8415 - categorical_accuracy: 0.6369 - val_loss: 1.2725 - val_categorical_accuracy: 0.2578 - lr: 0.0010\n",
            "Epoch 5/5\n",
            "21/21 [==============================] - ETA: 0s - loss: 0.7650 - categorical_accuracy: 0.6875\n",
            "Epoch 5: saving model to model_LSTM_CONV2D_2024-04-0919_39_48.994215/model-00005-0.76498-0.68750-1.40574-0.17188.h5\n",
            "21/21 [==============================] - 145s 7s/step - loss: 0.7650 - categorical_accuracy: 0.6875 - val_loss: 1.4057 - val_categorical_accuracy: 0.1719 - lr: 0.0010\n"
          ]
        }
      ]
    },
    {
      "cell_type": "code",
      "source": [
        "Model_LSTM_Conv2D = model.fit_generator(train_generator, steps_per_epoch=steps_per_epoch, epochs=10, verbose=1,\n",
        "                        callbacks=callbacks_list, validation_data=val_generator,\n",
        "                        validation_steps=validation_steps, class_weight=None, workers=1, initial_epoch=0)"
      ],
      "metadata": {
        "colab": {
          "base_uri": "https://localhost:8080/",
          "height": 0
        },
        "id": "F_Fd4lyEcvV3",
        "outputId": "b14fddfb-8b21-41cd-fb16-d8b7feed105c"
      },
      "execution_count": 44,
      "outputs": [
        {
          "output_type": "stream",
          "name": "stdout",
          "text": [
            "Epoch 1/10\n",
            "21/21 [==============================] - ETA: 0s - loss: 0.7108 - categorical_accuracy: 0.7083\n",
            "Epoch 1: saving model to model_LSTM_CONV2D_2024-04-0919_39_48.994215/model-00001-0.71075-0.70833-1.55013-0.14844.h5\n",
            "21/21 [==============================] - 104s 5s/step - loss: 0.7108 - categorical_accuracy: 0.7083 - val_loss: 1.5501 - val_categorical_accuracy: 0.1484 - lr: 0.0010\n",
            "Epoch 2/10\n",
            "21/21 [==============================] - ETA: 0s - loss: 0.7183 - categorical_accuracy: 0.7158\n",
            "Epoch 2: saving model to model_LSTM_CONV2D_2024-04-0919_39_48.994215/model-00002-0.71827-0.71577-1.49012-0.23438.h5\n",
            "21/21 [==============================] - 110s 5s/step - loss: 0.7183 - categorical_accuracy: 0.7158 - val_loss: 1.4901 - val_categorical_accuracy: 0.2344 - lr: 0.0010\n",
            "Epoch 3/10\n",
            "21/21 [==============================] - ETA: 0s - loss: 0.6549 - categorical_accuracy: 0.7455\n",
            "Epoch 3: saving model to model_LSTM_CONV2D_2024-04-0919_39_48.994215/model-00003-0.65492-0.74554-1.75939-0.17188.h5\n",
            "21/21 [==============================] - 94s 5s/step - loss: 0.6549 - categorical_accuracy: 0.7455 - val_loss: 1.7594 - val_categorical_accuracy: 0.1719 - lr: 0.0010\n",
            "Epoch 4/10\n",
            "21/21 [==============================] - ETA: 0s - loss: 0.6493 - categorical_accuracy: 0.7336\n",
            "Epoch 4: saving model to model_LSTM_CONV2D_2024-04-0919_39_48.994215/model-00004-0.64927-0.73363-1.65983-0.22656.h5\n",
            "21/21 [==============================] - 88s 4s/step - loss: 0.6493 - categorical_accuracy: 0.7336 - val_loss: 1.6598 - val_categorical_accuracy: 0.2266 - lr: 0.0010\n",
            "Epoch 5/10\n",
            "21/21 [==============================] - ETA: 0s - loss: 0.6626 - categorical_accuracy: 0.7158\n",
            "Epoch 5: saving model to model_LSTM_CONV2D_2024-04-0919_39_48.994215/model-00005-0.66264-0.71577-1.71234-0.20312.h5\n",
            "21/21 [==============================] - 89s 4s/step - loss: 0.6626 - categorical_accuracy: 0.7158 - val_loss: 1.7123 - val_categorical_accuracy: 0.2031 - lr: 0.0010\n",
            "Epoch 6/10\n",
            "21/21 [==============================] - ETA: 0s - loss: 0.6197 - categorical_accuracy: 0.7485\n",
            "Epoch 6: saving model to model_LSTM_CONV2D_2024-04-0919_39_48.994215/model-00006-0.61971-0.74851-1.71371-0.23438.h5\n",
            "21/21 [==============================] - 85s 4s/step - loss: 0.6197 - categorical_accuracy: 0.7485 - val_loss: 1.7137 - val_categorical_accuracy: 0.2344 - lr: 0.0010\n",
            "Epoch 7/10\n",
            "21/21 [==============================] - ETA: 0s - loss: 0.6423 - categorical_accuracy: 0.7217\n",
            "Epoch 7: saving model to model_LSTM_CONV2D_2024-04-0919_39_48.994215/model-00007-0.64230-0.72173-2.01720-0.18750.h5\n",
            "21/21 [==============================] - 91s 5s/step - loss: 0.6423 - categorical_accuracy: 0.7217 - val_loss: 2.0172 - val_categorical_accuracy: 0.1875 - lr: 0.0010\n",
            "Epoch 8/10\n",
            "21/21 [==============================] - ETA: 0s - loss: 0.5867 - categorical_accuracy: 0.7515\n",
            "Epoch 8: saving model to model_LSTM_CONV2D_2024-04-0919_39_48.994215/model-00008-0.58666-0.75149-2.03394-0.19531.h5\n",
            "21/21 [==============================] - 90s 4s/step - loss: 0.5867 - categorical_accuracy: 0.7515 - val_loss: 2.0339 - val_categorical_accuracy: 0.1953 - lr: 0.0010\n",
            "Epoch 9/10\n",
            "21/21 [==============================] - ETA: 0s - loss: 0.5714 - categorical_accuracy: 0.7560\n",
            "Epoch 9: saving model to model_LSTM_CONV2D_2024-04-0919_39_48.994215/model-00009-0.57137-0.75595-1.90591-0.24219.h5\n",
            "21/21 [==============================] - 86s 4s/step - loss: 0.5714 - categorical_accuracy: 0.7560 - val_loss: 1.9059 - val_categorical_accuracy: 0.2422 - lr: 0.0010\n",
            "Epoch 10/10\n",
            "21/21 [==============================] - ETA: 0s - loss: 0.5620 - categorical_accuracy: 0.7634\n",
            "Epoch 10: saving model to model_LSTM_CONV2D_2024-04-0919_39_48.994215/model-00010-0.56202-0.76339-1.85006-0.27344.h5\n",
            "21/21 [==============================] - 82s 4s/step - loss: 0.5620 - categorical_accuracy: 0.7634 - val_loss: 1.8501 - val_categorical_accuracy: 0.2734 - lr: 0.0010\n"
          ]
        }
      ]
    },
    {
      "cell_type": "code",
      "source": [
        "Model_LSTM_Conv2D = model.fit_generator(train_generator, steps_per_epoch=steps_per_epoch, epochs=20, verbose=1,\n",
        "                        callbacks=callbacks_list, validation_data=val_generator,\n",
        "                        validation_steps=validation_steps, class_weight=None, workers=1, initial_epoch=0)"
      ],
      "metadata": {
        "colab": {
          "base_uri": "https://localhost:8080/",
          "height": 0
        },
        "id": "ZB2lmBxeewyd",
        "outputId": "cc67a46f-88d0-4743-e770-6ab4b8d2aa5c"
      },
      "execution_count": 45,
      "outputs": [
        {
          "output_type": "stream",
          "name": "stdout",
          "text": [
            "Epoch 1/20\n",
            "21/21 [==============================] - ETA: 0s - loss: 0.5133 - categorical_accuracy: 0.7783\n",
            "Epoch 1: saving model to model_LSTM_CONV2D_2024-04-0919_39_48.994215/model-00001-0.51328-0.77827-2.12138-0.21094.h5\n",
            "21/21 [==============================] - 100s 5s/step - loss: 0.5133 - categorical_accuracy: 0.7783 - val_loss: 2.1214 - val_categorical_accuracy: 0.2109 - lr: 0.0010\n",
            "Epoch 2/20\n",
            "21/21 [==============================] - ETA: 0s - loss: 0.5518 - categorical_accuracy: 0.7619\n",
            "Epoch 2: saving model to model_LSTM_CONV2D_2024-04-0919_39_48.994215/model-00002-0.55180-0.76190-2.32358-0.21094.h5\n",
            "21/21 [==============================] - 98s 5s/step - loss: 0.5518 - categorical_accuracy: 0.7619 - val_loss: 2.3236 - val_categorical_accuracy: 0.2109 - lr: 0.0010\n",
            "Epoch 3/20\n",
            "21/21 [==============================] - ETA: 0s - loss: 0.5298 - categorical_accuracy: 0.7619\n",
            "Epoch 3: saving model to model_LSTM_CONV2D_2024-04-0919_39_48.994215/model-00003-0.52982-0.76190-1.81737-0.25000.h5\n",
            "21/21 [==============================] - 86s 4s/step - loss: 0.5298 - categorical_accuracy: 0.7619 - val_loss: 1.8174 - val_categorical_accuracy: 0.2500 - lr: 0.0010\n",
            "Epoch 4/20\n",
            "21/21 [==============================] - ETA: 0s - loss: 0.4955 - categorical_accuracy: 0.7887\n",
            "Epoch 4: saving model to model_LSTM_CONV2D_2024-04-0919_39_48.994215/model-00004-0.49552-0.78869-1.09669-0.38281.h5\n",
            "21/21 [==============================] - 82s 4s/step - loss: 0.4955 - categorical_accuracy: 0.7887 - val_loss: 1.0967 - val_categorical_accuracy: 0.3828 - lr: 0.0010\n",
            "Epoch 5/20\n",
            "21/21 [==============================] - ETA: 0s - loss: 0.5011 - categorical_accuracy: 0.7827\n",
            "Epoch 5: saving model to model_LSTM_CONV2D_2024-04-0919_39_48.994215/model-00005-0.50109-0.78274-1.48764-0.27344.h5\n",
            "21/21 [==============================] - 90s 4s/step - loss: 0.5011 - categorical_accuracy: 0.7827 - val_loss: 1.4876 - val_categorical_accuracy: 0.2734 - lr: 0.0010\n",
            "Epoch 6/20\n",
            "21/21 [==============================] - ETA: 0s - loss: 0.4843 - categorical_accuracy: 0.7932\n",
            "Epoch 6: saving model to model_LSTM_CONV2D_2024-04-0919_39_48.994215/model-00006-0.48429-0.79315-0.90343-0.39844.h5\n",
            "21/21 [==============================] - 101s 5s/step - loss: 0.4843 - categorical_accuracy: 0.7932 - val_loss: 0.9034 - val_categorical_accuracy: 0.3984 - lr: 0.0010\n",
            "Epoch 7/20\n",
            "21/21 [==============================] - ETA: 0s - loss: 0.5023 - categorical_accuracy: 0.7693\n",
            "Epoch 7: saving model to model_LSTM_CONV2D_2024-04-0919_39_48.994215/model-00007-0.50232-0.76935-0.74366-0.72656.h5\n",
            "21/21 [==============================] - 87s 4s/step - loss: 0.5023 - categorical_accuracy: 0.7693 - val_loss: 0.7437 - val_categorical_accuracy: 0.7266 - lr: 0.0010\n",
            "Epoch 8/20\n",
            "21/21 [==============================] - ETA: 0s - loss: 0.4838 - categorical_accuracy: 0.7887\n",
            "Epoch 8: saving model to model_LSTM_CONV2D_2024-04-0919_39_48.994215/model-00008-0.48380-0.78869-0.69106-0.75000.h5\n",
            "21/21 [==============================] - 93s 5s/step - loss: 0.4838 - categorical_accuracy: 0.7887 - val_loss: 0.6911 - val_categorical_accuracy: 0.7500 - lr: 0.0010\n",
            "Epoch 9/20\n",
            "21/21 [==============================] - ETA: 0s - loss: 0.4956 - categorical_accuracy: 0.7902\n",
            "Epoch 9: saving model to model_LSTM_CONV2D_2024-04-0919_39_48.994215/model-00009-0.49563-0.79018-0.90043-0.47656.h5\n",
            "21/21 [==============================] - 93s 5s/step - loss: 0.4956 - categorical_accuracy: 0.7902 - val_loss: 0.9004 - val_categorical_accuracy: 0.4766 - lr: 0.0010\n",
            "Epoch 10/20\n",
            "21/21 [==============================] - ETA: 0s - loss: 0.4388 - categorical_accuracy: 0.8006\n",
            "Epoch 10: saving model to model_LSTM_CONV2D_2024-04-0919_39_48.994215/model-00010-0.43877-0.80060-0.90642-0.67188.h5\n",
            "21/21 [==============================] - 84s 4s/step - loss: 0.4388 - categorical_accuracy: 0.8006 - val_loss: 0.9064 - val_categorical_accuracy: 0.6719 - lr: 0.0010\n",
            "Epoch 11/20\n",
            "21/21 [==============================] - ETA: 0s - loss: 0.4543 - categorical_accuracy: 0.8333\n",
            "Epoch 11: saving model to model_LSTM_CONV2D_2024-04-0919_39_48.994215/model-00011-0.45426-0.83333-0.94473-0.62500.h5\n",
            "21/21 [==============================] - 87s 4s/step - loss: 0.4543 - categorical_accuracy: 0.8333 - val_loss: 0.9447 - val_categorical_accuracy: 0.6250 - lr: 0.0010\n",
            "Epoch 12/20\n",
            "21/21 [==============================] - ETA: 0s - loss: 0.4174 - categorical_accuracy: 0.8244\n",
            "Epoch 12: saving model to model_LSTM_CONV2D_2024-04-0919_39_48.994215/model-00012-0.41740-0.82440-0.56155-0.76562.h5\n",
            "21/21 [==============================] - 83s 4s/step - loss: 0.4174 - categorical_accuracy: 0.8244 - val_loss: 0.5616 - val_categorical_accuracy: 0.7656 - lr: 0.0010\n",
            "Epoch 13/20\n",
            "21/21 [==============================] - ETA: 0s - loss: 0.4183 - categorical_accuracy: 0.8229\n",
            "Epoch 13: saving model to model_LSTM_CONV2D_2024-04-0919_39_48.994215/model-00013-0.41827-0.82292-0.62130-0.76562.h5\n",
            "21/21 [==============================] - 97s 5s/step - loss: 0.4183 - categorical_accuracy: 0.8229 - val_loss: 0.6213 - val_categorical_accuracy: 0.7656 - lr: 0.0010\n",
            "Epoch 14/20\n",
            "21/21 [==============================] - ETA: 0s - loss: 0.4424 - categorical_accuracy: 0.7961\n",
            "Epoch 14: saving model to model_LSTM_CONV2D_2024-04-0919_39_48.994215/model-00014-0.44244-0.79613-0.71374-0.76562.h5\n",
            "21/21 [==============================] - 107s 5s/step - loss: 0.4424 - categorical_accuracy: 0.7961 - val_loss: 0.7137 - val_categorical_accuracy: 0.7656 - lr: 0.0010\n",
            "Epoch 15/20\n",
            "21/21 [==============================] - ETA: 0s - loss: 0.4699 - categorical_accuracy: 0.8036\n",
            "Epoch 15: saving model to model_LSTM_CONV2D_2024-04-0919_39_48.994215/model-00015-0.46990-0.80357-0.72300-0.70312.h5\n",
            "21/21 [==============================] - 85s 4s/step - loss: 0.4699 - categorical_accuracy: 0.8036 - val_loss: 0.7230 - val_categorical_accuracy: 0.7031 - lr: 0.0010\n",
            "Epoch 16/20\n",
            "21/21 [==============================] - ETA: 0s - loss: 0.4111 - categorical_accuracy: 0.8244\n",
            "Epoch 16: saving model to model_LSTM_CONV2D_2024-04-0919_39_48.994215/model-00016-0.41114-0.82440-0.73105-0.70312.h5\n",
            "21/21 [==============================] - 99s 5s/step - loss: 0.4111 - categorical_accuracy: 0.8244 - val_loss: 0.7311 - val_categorical_accuracy: 0.7031 - lr: 0.0010\n",
            "Epoch 17/20\n",
            "21/21 [==============================] - ETA: 0s - loss: 0.4573 - categorical_accuracy: 0.8036\n",
            "Epoch 17: saving model to model_LSTM_CONV2D_2024-04-0919_39_48.994215/model-00017-0.45728-0.80357-0.99013-0.60938.h5\n",
            "21/21 [==============================] - 93s 5s/step - loss: 0.4573 - categorical_accuracy: 0.8036 - val_loss: 0.9901 - val_categorical_accuracy: 0.6094 - lr: 0.0010\n",
            "Epoch 18/20\n",
            "21/21 [==============================] - ETA: 0s - loss: 0.4130 - categorical_accuracy: 0.8065\n",
            "Epoch 18: saving model to model_LSTM_CONV2D_2024-04-0919_39_48.994215/model-00018-0.41304-0.80655-0.47272-0.79688.h5\n",
            "21/21 [==============================] - 95s 5s/step - loss: 0.4130 - categorical_accuracy: 0.8065 - val_loss: 0.4727 - val_categorical_accuracy: 0.7969 - lr: 0.0010\n",
            "Epoch 19/20\n",
            "21/21 [==============================] - ETA: 0s - loss: 0.4066 - categorical_accuracy: 0.8408\n",
            "Epoch 19: saving model to model_LSTM_CONV2D_2024-04-0919_39_48.994215/model-00019-0.40663-0.84077-0.73943-0.71875.h5\n",
            "21/21 [==============================] - 114s 6s/step - loss: 0.4066 - categorical_accuracy: 0.8408 - val_loss: 0.7394 - val_categorical_accuracy: 0.7188 - lr: 0.0010\n",
            "Epoch 20/20\n",
            "21/21 [==============================] - ETA: 0s - loss: 0.4310 - categorical_accuracy: 0.8065\n",
            "Epoch 20: saving model to model_LSTM_CONV2D_2024-04-0919_39_48.994215/model-00020-0.43104-0.80655-0.86154-0.64062.h5\n",
            "21/21 [==============================] - 90s 4s/step - loss: 0.4310 - categorical_accuracy: 0.8065 - val_loss: 0.8615 - val_categorical_accuracy: 0.6406 - lr: 0.0010\n"
          ]
        }
      ]
    },
    {
      "cell_type": "code",
      "execution_count": 47,
      "metadata": {
        "scrolled": false,
        "id": "FyVgQn_F70Rn",
        "outputId": "b14ff0bc-f1d7-41f9-f8fa-fd2c405b3d32",
        "colab": {
          "base_uri": "https://localhost:8080/",
          "height": 564
        }
      },
      "outputs": [
        {
          "output_type": "display_data",
          "data": {
            "text/plain": [
              "<Figure size 2000x600 with 2 Axes>"
            ],
            "image/png": "[encoded data removed]"
          },
          "metadata": {}
        }
      ],
      "source": [
        "plt.figure(figsize=(20,6))\n",
        "ax1 = plt.subplot(121)\n",
        "ax1 = plt.plot(Model_LSTM_Conv2D.history['loss'])\n",
        "ax1 = plt.plot(Model_LSTM_Conv2D.history['val_loss'])\n",
        "plt.title('Model LSTM_Conv2D loss')\n",
        "plt.ylabel('Loss')\n",
        "plt.xlabel('Epoch')\n",
        "plt.legend(['train', 'validation'], loc='lower left')\n",
        "ax2 = plt.subplot(122)\n",
        "ax2 = plt.plot(Model_LSTM_Conv2D.history['categorical_accuracy'])\n",
        "ax2 = plt.plot(Model_LSTM_Conv2D.history['val_categorical_accuracy'])\n",
        "plt.title('Model LSTM_Conv2D accuracy')\n",
        "plt.ylabel('Accuracy')\n",
        "plt.xlabel('Epoch')\n",
        "plt.legend(['train', 'validation'], loc='lower left')\n",
        "plt.show()"
      ]
    },
    {
      "cell_type": "markdown",
      "source": [
        "# CONV3D Model without Batch Normalization and Dropout"
      ],
      "metadata": {
        "id": "MMgGJJvMnEDu"
      }
    },
    {
      "cell_type": "code",
      "execution_count": 48,
      "metadata": {
        "id": "R1N5MaqH70Ro"
      },
      "outputs": [],
      "source": [
        "# Conv3D without batch normalization and dropout\n",
        "model = Sequential()\n",
        "\n",
        "model.add(Conv3D(32, kernel_size=3, activation='relu', input_shape=input_shape))\n",
        "model.add(Conv3D(64, kernel_size=3, activation='relu'))\n",
        "model.add(MaxPooling3D(pool_size=(2, 2, 2)))\n",
        "\n",
        "model.add(Conv3D(128, kernel_size=3, activation='relu'))\n",
        "model.add(MaxPooling3D(pool_size=(1, 2, 2)))\n",
        "\n",
        "model.add(Conv3D(256, kernel_size=(1, 3, 3), activation='relu'))\n",
        "model.add(MaxPooling3D(pool_size=(1, 2, 2)))\n",
        "\n",
        "model.add(Conv3D(512, kernel_size=(1, 3, 3), activation='relu'))\n",
        "model.add(Conv3D(512, kernel_size=(1, 3, 3), activation='relu'))\n",
        "model.add(MaxPooling3D(pool_size=(1, 2, 2)))\n",
        "\n",
        "model.add(Flatten())\n",
        "model.add(Dense(512, activation='relu'))\n",
        "model.add(Dense(5, activation='softmax'))"
      ]
    },
    {
      "cell_type": "code",
      "source": [
        "optimiser = optimizers.Adam(lr=0.01) #write your optimizer\n",
        "model.compile(optimizer=optimiser, loss='categorical_crossentropy', metrics=['categorical_accuracy'])\n",
        "print(model.summary())"
      ],
      "metadata": {
        "colab": {
          "base_uri": "https://localhost:8080/",
          "height": 0
        },
        "id": "QA4dar_Tl0Y6",
        "outputId": "a3ce77fc-6bf9-40a4-a1a2-f9e55651d669"
      },
      "execution_count": 49,
      "outputs": [
        {
          "output_type": "stream",
          "name": "stderr",
          "text": [
            "WARNING:absl:`lr` is deprecated in Keras optimizer, please use `learning_rate` or use the legacy optimizer, e.g.,tf.keras.optimizers.legacy.Adam.\n"
          ]
        },
        {
          "output_type": "stream",
          "name": "stdout",
          "text": [
            "Model: \"sequential_2\"\n",
            "_________________________________________________________________\n",
            " Layer (type)                Output Shape              Param #   \n",
            "=================================================================\n",
            " conv3d (Conv3D)             (None, 8, 118, 118, 32)   2624      \n",
            "                                                                 \n",
            " conv3d_1 (Conv3D)           (None, 6, 116, 116, 64)   55360     \n",
            "                                                                 \n",
            " max_pooling3d (MaxPooling3  (None, 3, 58, 58, 64)     0         \n",
            " D)                                                              \n",
            "                                                                 \n",
            " conv3d_2 (Conv3D)           (None, 1, 56, 56, 128)    221312    \n",
            "                                                                 \n",
            " max_pooling3d_1 (MaxPoolin  (None, 1, 28, 28, 128)    0         \n",
            " g3D)                                                            \n",
            "                                                                 \n",
            " conv3d_3 (Conv3D)           (None, 1, 26, 26, 256)    295168    \n",
            "                                                                 \n",
            " max_pooling3d_2 (MaxPoolin  (None, 1, 13, 13, 256)    0         \n",
            " g3D)                                                            \n",
            "                                                                 \n",
            " conv3d_4 (Conv3D)           (None, 1, 11, 11, 512)    1180160   \n",
            "                                                                 \n",
            " conv3d_5 (Conv3D)           (None, 1, 9, 9, 512)      2359808   \n",
            "                                                                 \n",
            " max_pooling3d_3 (MaxPoolin  (None, 1, 4, 4, 512)      0         \n",
            " g3D)                                                            \n",
            "                                                                 \n",
            " flatten (Flatten)           (None, 8192)              0         \n",
            "                                                                 \n",
            " dense_6 (Dense)             (None, 512)               4194816   \n",
            "                                                                 \n",
            " dense_7 (Dense)             (None, 5)                 2565      \n",
            "                                                                 \n",
            "=================================================================\n",
            "Total params: 8311813 (31.71 MB)\n",
            "Trainable params: 8311813 (31.71 MB)\n",
            "Non-trainable params: 0 (0.00 Byte)\n",
            "_________________________________________________________________\n",
            "None\n"
          ]
        }
      ]
    },
    {
      "cell_type": "code",
      "source": [
        "model_name = 'model_CONV3D_no_Batch_Norm' + '_' + str(curr_dt_time).replace(' ','').replace(':','_') + '/'\n",
        "\n",
        "if not os.path.exists(model_name):\n",
        "    os.mkdir(model_name)\n",
        "\n",
        "filepath = model_name + 'model-{epoch:05d}-{loss:.5f}-{categorical_accuracy:.5f}-{val_loss:.5f}-{val_categorical_accuracy:.5f}.h5'\n",
        "\n",
        "checkpoint = ModelCheckpoint(filepath, monitor='val_loss', verbose=1, save_best_only=False, save_weights_only=False, mode='auto', period=1)\n",
        "\n",
        "LR = ReduceLROnPlateau(monitor='val_loss', factor=0.2, patience=5, min_lr=0.001, verbose=1) # write the REducelronplateau code here\n",
        "\n",
        "callbacks_list = [checkpoint, LR]"
      ],
      "metadata": {
        "colab": {
          "base_uri": "https://localhost:8080/",
          "height": 0
        },
        "id": "BqEcNBuGl9DW",
        "outputId": "0a852f27-ffdc-420a-fb72-b015aa37f7d0"
      },
      "execution_count": 50,
      "outputs": [
        {
          "output_type": "stream",
          "name": "stderr",
          "text": [
            "WARNING:tensorflow:`period` argument is deprecated. Please use `save_freq` to specify the frequency in number of batches seen.\n"
          ]
        }
      ]
    },
    {
      "cell_type": "code",
      "source": [
        "if (num_train_sequences%batch_size) == 0:\n",
        "    steps_per_epoch = int(num_train_sequences/batch_size)\n",
        "else:\n",
        "    steps_per_epoch = (num_train_sequences//batch_size) + 1\n",
        "\n",
        "if (num_val_sequences%batch_size) == 0:\n",
        "    validation_steps = int(num_val_sequences/batch_size)\n",
        "else:\n",
        "    validation_steps = (num_val_sequences//batch_size) + 1"
      ],
      "metadata": {
        "id": "Hf1zvO3vmDA3"
      },
      "execution_count": 51,
      "outputs": []
    },
    {
      "cell_type": "code",
      "source": [
        "model_CONV3D_no_Batch_Norm = model.fit_generator(train_generator, steps_per_epoch=steps_per_epoch, epochs=5, verbose=1,\n",
        "                        callbacks=callbacks_list, validation_data=val_generator,\n",
        "                        validation_steps=validation_steps, class_weight=None, workers=1, initial_epoch=0)"
      ],
      "metadata": {
        "colab": {
          "base_uri": "https://localhost:8080/",
          "height": 0
        },
        "id": "VOqn8dS8mDCi",
        "outputId": "ec25445c-033d-4aa7-faa9-f683f4abe84e"
      },
      "execution_count": 52,
      "outputs": [
        {
          "output_type": "stream",
          "name": "stdout",
          "text": [
            "Epoch 1/5\n",
            "21/21 [==============================] - ETA: 0s - loss: 1.6999 - categorical_accuracy: 0.1860\n",
            "Epoch 1: saving model to model_CONV3D_no_Batch_Norm_2024-04-0919_42_42.460983/model-00001-1.69991-0.18601-1.25532-0.16406.h5\n",
            "21/21 [==============================] - 102s 4s/step - loss: 1.6999 - categorical_accuracy: 0.1860 - val_loss: 1.2553 - val_categorical_accuracy: 0.1641 - lr: 0.0010\n",
            "Epoch 2/5\n",
            "21/21 [==============================] - ETA: 0s - loss: 1.5859 - categorical_accuracy: 0.2098\n",
            "Epoch 2: saving model to model_CONV3D_no_Batch_Norm_2024-04-0919_42_42.460983/model-00002-1.58591-0.20982-1.25323-0.37500.h5\n",
            "21/21 [==============================] - 89s 4s/step - loss: 1.5859 - categorical_accuracy: 0.2098 - val_loss: 1.2532 - val_categorical_accuracy: 0.3750 - lr: 0.0010\n",
            "Epoch 3/5\n",
            "21/21 [==============================] - ETA: 0s - loss: 1.5628 - categorical_accuracy: 0.2798\n",
            "Epoch 3: saving model to model_CONV3D_no_Batch_Norm_2024-04-0919_42_42.460983/model-00003-1.56275-0.27976-1.13612-0.54688.h5\n",
            "21/21 [==============================] - 91s 4s/step - loss: 1.5628 - categorical_accuracy: 0.2798 - val_loss: 1.1361 - val_categorical_accuracy: 0.5469 - lr: 0.0010\n",
            "Epoch 4/5\n",
            "21/21 [==============================] - ETA: 0s - loss: 1.4052 - categorical_accuracy: 0.3438\n",
            "Epoch 4: saving model to model_CONV3D_no_Batch_Norm_2024-04-0919_42_42.460983/model-00004-1.40516-0.34375-1.04315-0.34375.h5\n",
            "21/21 [==============================] - 89s 4s/step - loss: 1.4052 - categorical_accuracy: 0.3438 - val_loss: 1.0431 - val_categorical_accuracy: 0.3438 - lr: 0.0010\n",
            "Epoch 5/5\n",
            "21/21 [==============================] - ETA: 0s - loss: 1.3550 - categorical_accuracy: 0.3839\n",
            "Epoch 5: saving model to model_CONV3D_no_Batch_Norm_2024-04-0919_42_42.460983/model-00005-1.35499-0.38393-1.06075-0.32031.h5\n",
            "21/21 [==============================] - 89s 4s/step - loss: 1.3550 - categorical_accuracy: 0.3839 - val_loss: 1.0607 - val_categorical_accuracy: 0.3203 - lr: 0.0010\n"
          ]
        }
      ]
    },
    {
      "cell_type": "code",
      "source": [
        "model_CONV3D_no_Batch_Norm = model.fit_generator(train_generator, steps_per_epoch=steps_per_epoch, epochs=10, verbose=1,\n",
        "                        callbacks=callbacks_list, validation_data=val_generator,\n",
        "                        validation_steps=validation_steps, class_weight=None, workers=1, initial_epoch=0)"
      ],
      "metadata": {
        "colab": {
          "base_uri": "https://localhost:8080/",
          "height": 0
        },
        "id": "iV3I2l6rsKSj",
        "outputId": "8d89c8e5-9eac-41a8-983e-7e79d077d09c"
      },
      "execution_count": 53,
      "outputs": [
        {
          "output_type": "stream",
          "name": "stdout",
          "text": [
            "Epoch 1/10\n",
            "21/21 [==============================] - ETA: 0s - loss: 1.2798 - categorical_accuracy: 0.4018\n",
            "Epoch 1: saving model to model_CONV3D_no_Batch_Norm_2024-04-0919_42_42.460983/model-00001-1.27982-0.40179-0.96202-0.35938.h5\n",
            "21/21 [==============================] - 92s 5s/step - loss: 1.2798 - categorical_accuracy: 0.4018 - val_loss: 0.9620 - val_categorical_accuracy: 0.3594 - lr: 0.0010\n",
            "Epoch 2/10\n",
            "21/21 [==============================] - ETA: 0s - loss: 1.2742 - categorical_accuracy: 0.4301\n",
            "Epoch 2: saving model to model_CONV3D_no_Batch_Norm_2024-04-0919_42_42.460983/model-00002-1.27420-0.43006-1.04452-0.32031.h5\n",
            "21/21 [==============================] - 91s 5s/step - loss: 1.2742 - categorical_accuracy: 0.4301 - val_loss: 1.0445 - val_categorical_accuracy: 0.3203 - lr: 0.0010\n",
            "Epoch 3/10\n",
            "21/21 [==============================] - ETA: 0s - loss: 1.1896 - categorical_accuracy: 0.4435\n",
            "Epoch 3: saving model to model_CONV3D_no_Batch_Norm_2024-04-0919_42_42.460983/model-00003-1.18961-0.44345-0.93897-0.38281.h5\n",
            "21/21 [==============================] - 87s 4s/step - loss: 1.1896 - categorical_accuracy: 0.4435 - val_loss: 0.9390 - val_categorical_accuracy: 0.3828 - lr: 0.0010\n",
            "Epoch 4/10\n",
            "21/21 [==============================] - ETA: 0s - loss: 1.0971 - categorical_accuracy: 0.4896\n",
            "Epoch 4: saving model to model_CONV3D_no_Batch_Norm_2024-04-0919_42_42.460983/model-00004-1.09708-0.48958-0.91903-0.39844.h5\n",
            "21/21 [==============================] - 90s 4s/step - loss: 1.0971 - categorical_accuracy: 0.4896 - val_loss: 0.9190 - val_categorical_accuracy: 0.3984 - lr: 0.0010\n",
            "Epoch 5/10\n",
            "21/21 [==============================] - ETA: 0s - loss: 1.0619 - categorical_accuracy: 0.5208\n",
            "Epoch 5: saving model to model_CONV3D_no_Batch_Norm_2024-04-0919_42_42.460983/model-00005-1.06193-0.52083-0.86322-0.39062.h5\n",
            "21/21 [==============================] - 90s 4s/step - loss: 1.0619 - categorical_accuracy: 0.5208 - val_loss: 0.8632 - val_categorical_accuracy: 0.3906 - lr: 0.0010\n",
            "Epoch 6/10\n",
            "21/21 [==============================] - ETA: 0s - loss: 0.9968 - categorical_accuracy: 0.5863\n",
            "Epoch 6: saving model to model_CONV3D_no_Batch_Norm_2024-04-0919_42_42.460983/model-00006-0.99683-0.58631-0.85078-0.47656.h5\n",
            "21/21 [==============================] - 91s 5s/step - loss: 0.9968 - categorical_accuracy: 0.5863 - val_loss: 0.8508 - val_categorical_accuracy: 0.4766 - lr: 0.0010\n",
            "Epoch 7/10\n",
            "21/21 [==============================] - ETA: 0s - loss: 0.9228 - categorical_accuracy: 0.5952\n",
            "Epoch 7: saving model to model_CONV3D_no_Batch_Norm_2024-04-0919_42_42.460983/model-00007-0.92276-0.59524-0.87863-0.60156.h5\n",
            "21/21 [==============================] - 90s 4s/step - loss: 0.9228 - categorical_accuracy: 0.5952 - val_loss: 0.8786 - val_categorical_accuracy: 0.6016 - lr: 0.0010\n",
            "Epoch 8/10\n",
            "21/21 [==============================] - ETA: 0s - loss: 0.8087 - categorical_accuracy: 0.6458\n",
            "Epoch 8: saving model to model_CONV3D_no_Batch_Norm_2024-04-0919_42_42.460983/model-00008-0.80869-0.64583-0.84255-0.39062.h5\n",
            "21/21 [==============================] - 89s 4s/step - loss: 0.8087 - categorical_accuracy: 0.6458 - val_loss: 0.8426 - val_categorical_accuracy: 0.3906 - lr: 0.0010\n",
            "Epoch 9/10\n",
            "21/21 [==============================] - ETA: 0s - loss: 0.8707 - categorical_accuracy: 0.6890\n",
            "Epoch 9: saving model to model_CONV3D_no_Batch_Norm_2024-04-0919_42_42.460983/model-00009-0.87069-0.68899-1.12857-0.35938.h5\n",
            "21/21 [==============================] - 90s 4s/step - loss: 0.8707 - categorical_accuracy: 0.6890 - val_loss: 1.1286 - val_categorical_accuracy: 0.3594 - lr: 0.0010\n",
            "Epoch 10/10\n",
            "21/21 [==============================] - ETA: 0s - loss: 1.1490 - categorical_accuracy: 0.6161\n",
            "Epoch 10: saving model to model_CONV3D_no_Batch_Norm_2024-04-0919_42_42.460983/model-00010-1.14903-0.61607-1.15696-0.41406.h5\n",
            "21/21 [==============================] - 90s 4s/step - loss: 1.1490 - categorical_accuracy: 0.6161 - val_loss: 1.1570 - val_categorical_accuracy: 0.4141 - lr: 0.0010\n"
          ]
        }
      ]
    },
    {
      "cell_type": "markdown",
      "source": [
        "# CONV3D Model with Batch Normalization and Dropout"
      ],
      "metadata": {
        "id": "OJr8n-bLn3Qe"
      }
    },
    {
      "cell_type": "code",
      "source": [
        "#Conv 3D with batch normalization and Dropout\n",
        "model = Sequential()\n",
        "\n",
        "model.add(Conv3D(32, kernel_size=3, activation='relu', input_shape=input_shape))\n",
        "model.add(Conv3D(64, kernel_size=3, activation='relu'))\n",
        "model.add(MaxPooling3D(pool_size=(2, 2, 2)))\n",
        "model.add(BatchNormalization())\n",
        "model.add(Dropout(0.2))\n",
        "\n",
        "model.add(Conv3D(128, kernel_size=3, activation='relu'))\n",
        "model.add(MaxPooling3D(pool_size=(1, 2, 2)))\n",
        "model.add(BatchNormalization())\n",
        "model.add(Dropout(0.2))\n",
        "\n",
        "model.add(Conv3D(256, kernel_size=(1, 3, 3), activation='relu'))\n",
        "model.add(MaxPooling3D(pool_size=(1, 2, 2)))\n",
        "model.add(BatchNormalization())\n",
        "model.add(Dropout(0.2))\n",
        "\n",
        "model.add(GlobalAveragePooling3D())\n",
        "model.add(Dense(512, activation='relu'))\n",
        "model.add(BatchNormalization())\n",
        "model.add(Dense(5, activation='softmax'))"
      ],
      "metadata": {
        "id": "PAUaspxLn80n"
      },
      "execution_count": 54,
      "outputs": []
    },
    {
      "cell_type": "code",
      "source": [
        "optimiser = optimizers.Adam(lr=0.01) #write your optimizer\n",
        "model.compile(optimizer=optimiser, loss='categorical_crossentropy', metrics=['categorical_accuracy'])\n",
        "print(model.summary())"
      ],
      "metadata": {
        "colab": {
          "base_uri": "https://localhost:8080/",
          "height": 0
        },
        "id": "fsnSiWozoWPz",
        "outputId": "f8d2c9e3-049e-482e-fca2-03310d823b27"
      },
      "execution_count": 55,
      "outputs": [
        {
          "output_type": "stream",
          "name": "stderr",
          "text": [
            "WARNING:absl:`lr` is deprecated in Keras optimizer, please use `learning_rate` or use the legacy optimizer, e.g.,tf.keras.optimizers.legacy.Adam.\n"
          ]
        },
        {
          "output_type": "stream",
          "name": "stdout",
          "text": [
            "Model: \"sequential_3\"\n",
            "_________________________________________________________________\n",
            " Layer (type)                Output Shape              Param #   \n",
            "=================================================================\n",
            " conv3d_6 (Conv3D)           (None, 8, 118, 118, 32)   2624      \n",
            "                                                                 \n",
            " conv3d_7 (Conv3D)           (None, 6, 116, 116, 64)   55360     \n",
            "                                                                 \n",
            " max_pooling3d_4 (MaxPoolin  (None, 3, 58, 58, 64)     0         \n",
            " g3D)                                                            \n",
            "                                                                 \n",
            " batch_normalization_8 (Bat  (None, 3, 58, 58, 64)     256       \n",
            " chNormalization)                                                \n",
            "                                                                 \n",
            " dropout (Dropout)           (None, 3, 58, 58, 64)     0         \n",
            "                                                                 \n",
            " conv3d_8 (Conv3D)           (None, 1, 56, 56, 128)    221312    \n",
            "                                                                 \n",
            " max_pooling3d_5 (MaxPoolin  (None, 1, 28, 28, 128)    0         \n",
            " g3D)                                                            \n",
            "                                                                 \n",
            " batch_normalization_9 (Bat  (None, 1, 28, 28, 128)    512       \n",
            " chNormalization)                                                \n",
            "                                                                 \n",
            " dropout_1 (Dropout)         (None, 1, 28, 28, 128)    0         \n",
            "                                                                 \n",
            " conv3d_9 (Conv3D)           (None, 1, 26, 26, 256)    295168    \n",
            "                                                                 \n",
            " max_pooling3d_6 (MaxPoolin  (None, 1, 13, 13, 256)    0         \n",
            " g3D)                                                            \n",
            "                                                                 \n",
            " batch_normalization_10 (Ba  (None, 1, 13, 13, 256)    1024      \n",
            " tchNormalization)                                               \n",
            "                                                                 \n",
            " dropout_2 (Dropout)         (None, 1, 13, 13, 256)    0         \n",
            "                                                                 \n",
            " global_average_pooling3d (  (None, 256)               0         \n",
            " GlobalAveragePooling3D)                                         \n",
            "                                                                 \n",
            " dense_8 (Dense)             (None, 512)               131584    \n",
            "                                                                 \n",
            " batch_normalization_11 (Ba  (None, 512)               2048      \n",
            " tchNormalization)                                               \n",
            "                                                                 \n",
            " dense_9 (Dense)             (None, 5)                 2565      \n",
            "                                                                 \n",
            "=================================================================\n",
            "Total params: 712453 (2.72 MB)\n",
            "Trainable params: 710533 (2.71 MB)\n",
            "Non-trainable params: 1920 (7.50 KB)\n",
            "_________________________________________________________________\n",
            "None\n"
          ]
        }
      ]
    },
    {
      "cell_type": "code",
      "source": [
        "model_name = 'model_CONV3D_Batch_Norm' + '_' + str(curr_dt_time).replace(' ','').replace(':','_') + '/'\n",
        "\n",
        "if not os.path.exists(model_name):\n",
        "    os.mkdir(model_name)\n",
        "\n",
        "filepath = model_name + 'model-{epoch:05d}-{loss:.5f}-{categorical_accuracy:.5f}-{val_loss:.5f}-{val_categorical_accuracy:.5f}.h5'\n",
        "\n",
        "checkpoint = ModelCheckpoint(filepath, monitor='val_loss', verbose=1, save_best_only=False, save_weights_only=False, mode='auto', period=1)\n",
        "\n",
        "LR = ReduceLROnPlateau(monitor='val_loss', factor=0.2, patience=5, min_lr=0.001, verbose=1) # write the REducelronplateau code here\n",
        "\n",
        "callbacks_list = [checkpoint, LR]"
      ],
      "metadata": {
        "colab": {
          "base_uri": "https://localhost:8080/",
          "height": 0
        },
        "id": "tsp76DBQocIa",
        "outputId": "a96d5590-ff88-482c-90a8-53db5c3d9c3b"
      },
      "execution_count": 56,
      "outputs": [
        {
          "output_type": "stream",
          "name": "stderr",
          "text": [
            "WARNING:tensorflow:`period` argument is deprecated. Please use `save_freq` to specify the frequency in number of batches seen.\n"
          ]
        }
      ]
    },
    {
      "cell_type": "code",
      "source": [
        "if (num_train_sequences%batch_size) == 0:\n",
        "    steps_per_epoch = int(num_train_sequences/batch_size)\n",
        "else:\n",
        "    steps_per_epoch = (num_train_sequences//batch_size) + 1\n",
        "\n",
        "if (num_val_sequences%batch_size) == 0:\n",
        "    validation_steps = int(num_val_sequences/batch_size)\n",
        "else:\n",
        "    validation_steps = (num_val_sequences//batch_size) + 1"
      ],
      "metadata": {
        "id": "tSj_o5wKoeah"
      },
      "execution_count": 57,
      "outputs": []
    },
    {
      "cell_type": "code",
      "source": [
        "model_CONV3D_Batch_Norm = model.fit_generator(train_generator, steps_per_epoch=steps_per_epoch, epochs=15, verbose=1,\n",
        "                        callbacks=callbacks_list, validation_data=val_generator,\n",
        "                        validation_steps=validation_steps, class_weight=None, workers=1, initial_epoch=0)"
      ],
      "metadata": {
        "colab": {
          "base_uri": "https://localhost:8080/",
          "height": 0
        },
        "id": "7-nwF7pfokhU",
        "outputId": "a3dd956a-daaf-48e6-85c1-8c4a08e55665"
      },
      "execution_count": 58,
      "outputs": [
        {
          "output_type": "stream",
          "name": "stdout",
          "text": [
            "Epoch 1/15\n",
            "21/21 [==============================] - ETA: 0s - loss: 1.5666 - categorical_accuracy: 0.3958\n",
            "Epoch 1: saving model to model_CONV3D_Batch_Norm_2024-04-0919_42_42.460983/model-00001-1.56661-0.39583-1.39472-0.11719.h5\n",
            "21/21 [==============================] - 98s 5s/step - loss: 1.5666 - categorical_accuracy: 0.3958 - val_loss: 1.3947 - val_categorical_accuracy: 0.1172 - lr: 0.0010\n",
            "Epoch 2/15\n",
            "21/21 [==============================] - ETA: 0s - loss: 1.1266 - categorical_accuracy: 0.5015\n",
            "Epoch 2: saving model to model_CONV3D_Batch_Norm_2024-04-0919_42_42.460983/model-00002-1.12662-0.50149-1.42409-0.17969.h5\n",
            "21/21 [==============================] - 90s 4s/step - loss: 1.1266 - categorical_accuracy: 0.5015 - val_loss: 1.4241 - val_categorical_accuracy: 0.1797 - lr: 0.0010\n",
            "Epoch 3/15\n",
            "21/21 [==============================] - ETA: 0s - loss: 0.9909 - categorical_accuracy: 0.5670\n",
            "Epoch 3: saving model to model_CONV3D_Batch_Norm_2024-04-0919_42_42.460983/model-00003-0.99093-0.56696-1.31165-0.21875.h5\n",
            "21/21 [==============================] - 89s 4s/step - loss: 0.9909 - categorical_accuracy: 0.5670 - val_loss: 1.3116 - val_categorical_accuracy: 0.2188 - lr: 0.0010\n",
            "Epoch 4/15\n",
            "21/21 [==============================] - ETA: 0s - loss: 0.9393 - categorical_accuracy: 0.6057\n",
            "Epoch 4: saving model to model_CONV3D_Batch_Norm_2024-04-0919_42_42.460983/model-00004-0.93925-0.60565-1.29330-0.17188.h5\n",
            "21/21 [==============================] - 88s 4s/step - loss: 0.9393 - categorical_accuracy: 0.6057 - val_loss: 1.2933 - val_categorical_accuracy: 0.1719 - lr: 0.0010\n",
            "Epoch 5/15\n",
            "21/21 [==============================] - ETA: 0s - loss: 0.8694 - categorical_accuracy: 0.6443\n",
            "Epoch 5: saving model to model_CONV3D_Batch_Norm_2024-04-0919_42_42.460983/model-00005-0.86944-0.64435-1.25935-0.20312.h5\n",
            "21/21 [==============================] - 88s 4s/step - loss: 0.8694 - categorical_accuracy: 0.6443 - val_loss: 1.2593 - val_categorical_accuracy: 0.2031 - lr: 0.0010\n",
            "Epoch 6/15\n",
            "21/21 [==============================] - ETA: 0s - loss: 0.8027 - categorical_accuracy: 0.6801\n",
            "Epoch 6: saving model to model_CONV3D_Batch_Norm_2024-04-0919_42_42.460983/model-00006-0.80268-0.68006-1.36427-0.19531.h5\n",
            "21/21 [==============================] - 89s 4s/step - loss: 0.8027 - categorical_accuracy: 0.6801 - val_loss: 1.3643 - val_categorical_accuracy: 0.1953 - lr: 0.0010\n",
            "Epoch 7/15\n",
            "21/21 [==============================] - ETA: 0s - loss: 0.7569 - categorical_accuracy: 0.7113\n",
            "Epoch 7: saving model to model_CONV3D_Batch_Norm_2024-04-0919_42_42.460983/model-00007-0.75693-0.71131-1.32405-0.42188.h5\n",
            "21/21 [==============================] - 94s 5s/step - loss: 0.7569 - categorical_accuracy: 0.7113 - val_loss: 1.3240 - val_categorical_accuracy: 0.4219 - lr: 0.0010\n",
            "Epoch 8/15\n",
            "21/21 [==============================] - ETA: 0s - loss: 0.6497 - categorical_accuracy: 0.7411\n",
            "Epoch 8: saving model to model_CONV3D_Batch_Norm_2024-04-0919_42_42.460983/model-00008-0.64967-0.74107-1.72423-0.17188.h5\n",
            "21/21 [==============================] - 89s 4s/step - loss: 0.6497 - categorical_accuracy: 0.7411 - val_loss: 1.7242 - val_categorical_accuracy: 0.1719 - lr: 0.0010\n",
            "Epoch 9/15\n",
            "21/21 [==============================] - ETA: 0s - loss: 0.6343 - categorical_accuracy: 0.7604\n",
            "Epoch 9: saving model to model_CONV3D_Batch_Norm_2024-04-0919_42_42.460983/model-00009-0.63427-0.76042-1.63992-0.18750.h5\n",
            "21/21 [==============================] - 89s 4s/step - loss: 0.6343 - categorical_accuracy: 0.7604 - val_loss: 1.6399 - val_categorical_accuracy: 0.1875 - lr: 0.0010\n",
            "Epoch 10/15\n",
            "21/21 [==============================] - ETA: 0s - loss: 0.6105 - categorical_accuracy: 0.7470\n",
            "Epoch 10: saving model to model_CONV3D_Batch_Norm_2024-04-0919_42_42.460983/model-00010-0.61054-0.74702-1.22668-0.43750.h5\n",
            "21/21 [==============================] - 90s 4s/step - loss: 0.6105 - categorical_accuracy: 0.7470 - val_loss: 1.2267 - val_categorical_accuracy: 0.4375 - lr: 0.0010\n",
            "Epoch 11/15\n",
            "21/21 [==============================] - ETA: 0s - loss: 0.5414 - categorical_accuracy: 0.7723\n",
            "Epoch 11: saving model to model_CONV3D_Batch_Norm_2024-04-0919_42_42.460983/model-00011-0.54136-0.77232-1.42297-0.30469.h5\n",
            "21/21 [==============================] - 88s 4s/step - loss: 0.5414 - categorical_accuracy: 0.7723 - val_loss: 1.4230 - val_categorical_accuracy: 0.3047 - lr: 0.0010\n",
            "Epoch 12/15\n",
            "21/21 [==============================] - ETA: 0s - loss: 0.4875 - categorical_accuracy: 0.8199\n",
            "Epoch 12: saving model to model_CONV3D_Batch_Norm_2024-04-0919_42_42.460983/model-00012-0.48754-0.81994-1.33225-0.25781.h5\n",
            "21/21 [==============================] - 89s 4s/step - loss: 0.4875 - categorical_accuracy: 0.8199 - val_loss: 1.3323 - val_categorical_accuracy: 0.2578 - lr: 0.0010\n",
            "Epoch 13/15\n",
            "21/21 [==============================] - ETA: 0s - loss: 0.4894 - categorical_accuracy: 0.8185\n",
            "Epoch 13: saving model to model_CONV3D_Batch_Norm_2024-04-0919_42_42.460983/model-00013-0.48939-0.81845-2.30958-0.26562.h5\n",
            "21/21 [==============================] - 90s 4s/step - loss: 0.4894 - categorical_accuracy: 0.8185 - val_loss: 2.3096 - val_categorical_accuracy: 0.2656 - lr: 0.0010\n",
            "Epoch 14/15\n",
            "21/21 [==============================] - ETA: 0s - loss: 0.5358 - categorical_accuracy: 0.7708\n",
            "Epoch 14: saving model to model_CONV3D_Batch_Norm_2024-04-0919_42_42.460983/model-00014-0.53583-0.77083-2.02621-0.24219.h5\n",
            "21/21 [==============================] - 88s 4s/step - loss: 0.5358 - categorical_accuracy: 0.7708 - val_loss: 2.0262 - val_categorical_accuracy: 0.2422 - lr: 0.0010\n",
            "Epoch 15/15\n",
            "21/21 [==============================] - ETA: 0s - loss: 0.5185 - categorical_accuracy: 0.7932\n",
            "Epoch 15: saving model to model_CONV3D_Batch_Norm_2024-04-0919_42_42.460983/model-00015-0.51851-0.79315-2.21330-0.19531.h5\n",
            "21/21 [==============================] - 91s 5s/step - loss: 0.5185 - categorical_accuracy: 0.7932 - val_loss: 2.2133 - val_categorical_accuracy: 0.1953 - lr: 0.0010\n"
          ]
        }
      ]
    }
  ],
  "metadata": {
    "kernelspec": {
      "display_name": "Python 3",
      "name": "python3"
    },
    "language_info": {
      "codemirror_mode": {
        "name": "ipython",
        "version": 3
      },
      "file_extension": ".py",
      "mimetype": "text/x-python",
      "name": "python",
      "nbconvert_exporter": "python",
      "pygments_lexer": "ipython3",
      "version": "3.6.12"
    },
    "colab": {
      "provenance": [],
      "gpuType": "T4",
      "include_colab_link": true
    },
    "accelerator": "GPU"
  },
  "nbformat": 4,
  "nbformat_minor": 0
}